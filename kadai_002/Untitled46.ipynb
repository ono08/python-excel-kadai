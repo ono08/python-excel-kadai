{
  "nbformat": 4,
  "nbformat_minor": 0,
  "metadata": {
    "colab": {
      "provenance": []
    },
    "kernelspec": {
      "name": "python3",
      "display_name": "Python 3"
    },
    "language_info": {
      "name": "python"
    }
  },
  "cells": [
    {
      "cell_type": "code",
      "execution_count": 1,
      "metadata": {
        "colab": {
          "base_uri": "https://localhost:8080/"
        },
        "id": "uwWKX1XM6A7Q",
        "outputId": "a8b9b380-7237-4f33-f794-72236e38a9af"
      },
      "outputs": [
        {
          "output_type": "stream",
          "name": "stdout",
          "text": [
            "           日付 社員名   売上    部門   平均売上 業績ランク\n",
            "0  2023-05-17  山田  100  メーカー  200.0     C\n",
            "1  2023-05-18  佐藤  200   代理店  200.0     B\n",
            "2  2023-05-19  鈴木  150  メーカー  200.0     C\n",
            "3  2023-05-20  田中  300    商社  200.0     A\n",
            "4  2023-05-21  高橋  250   代理店  200.0     A\n"
          ]
        }
      ],
      "source": [
        "import pandas as pd\n",
        "\n",
        "# 元データを作成\n",
        "data = {\n",
        "    \"日付\": [\"2023-05-17\", \"2023-05-18\", \"2023-05-19\", \"2023-05-20\", \"2023-05-21\"],\n",
        "    \"社員名\": [\"山田\", \"佐藤\", \"鈴木\", \"田中\", \"高橋\"],\n",
        "    \"売上\": [100, 200, 150, 300, 250],\n",
        "    \"部門\": [\"メーカー\", \"代理店\", \"メーカー\", \"商社\", \"代理店\"]\n",
        "}\n",
        "\n",
        "# DataFrameを作成\n",
        "df = pd.DataFrame(data)\n",
        "\n",
        "# 平均売上を計算\n",
        "avg_sales = df[\"売上\"].mean()\n",
        "\n",
        "# 「平均売上」列を追加（全員同じ値）\n",
        "df[\"平均売上\"] = avg_sales\n",
        "\n",
        "# 業績ランクを決める関数を定義\n",
        "def performance(sales, avg):\n",
        "    if sales >= avg + 50:\n",
        "        return \"A\"\n",
        "    elif sales >= avg:\n",
        "        return \"B\"\n",
        "    else:\n",
        "        return \"C\"\n",
        "\n",
        "# 業績ランク列を追加\n",
        "df[\"業績ランク\"] = df.apply(lambda x: performance(x[\"売上\"], avg_sales), axis=1)\n",
        "\n",
        "# 結果をExcelファイルに書き出し\n",
        "df.to_excel(\"業績.xlsx\", index=False)\n",
        "\n",
        "# 結果確認\n",
        "print(df)\n"
      ]
    }
  ]
}