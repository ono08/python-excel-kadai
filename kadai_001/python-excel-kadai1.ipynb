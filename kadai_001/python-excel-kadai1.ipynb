{
  "nbformat": 4,
  "nbformat_minor": 0,
  "metadata": {
    "colab": {
      "provenance": []
    },
    "kernelspec": {
      "name": "python3",
      "display_name": "Python 3"
    },
    "language_info": {
      "name": "python"
    }
  },
  "cells": [
    {
      "cell_type": "code",
      "execution_count": null,
      "metadata": {
        "id": "tFXZfh7hBFPQ"
      },
      "outputs": [],
      "source": []
    },
    {
      "cell_type": "code",
      "source": [
        "import openpyxl\n",
        "from openpyxl.styles import Alignment\n",
        "from datetime import datetime\n",
        "\n",
        "# 新しいブックとシート\n",
        "wb = openpyxl.Workbook()\n",
        "ws = wb.active\n",
        "ws.title = \"請求書\"\n",
        "\n",
        "# タイトル\n",
        "ws[\"B2\"] = \"請求書\"\n",
        "\n",
        "# 会社情報\n",
        "ws[\"B4\"] = \"株式会社ABC\"\n",
        "ws[\"B5\"] = \"〒101-0022 東京都千代田区神田練塀町300\"\n",
        "ws[\"B6\"] = \"TEL:03-1234-5678  FAX:03-1234-5678\"\n",
        "ws[\"B7\"] = \"担当者名: 鈴木一郎 様\"\n",
        "\n",
        "# 請求番号・日付\n",
        "ws[\"F4\"] = \"No.\"\n",
        "ws[\"G4\"] = \"0001\"\n",
        "ws[\"F5\"] = \"日付\"\n",
        "ws[\"G5\"] = datetime.today().strftime(\"%Y/%m/%d\")\n",
        "\n",
        "# 明細ヘッダー（全て左寄せ）\n",
        "headers = [\"商品名\", \"数量\", \"単価\", \"金額\"]\n",
        "for col, header in enumerate(headers, start=2):\n",
        "    cell = ws.cell(row=10, column=col, value=header)\n",
        "    cell.alignment = Alignment(horizontal=\"left\")\n",
        "\n",
        "# 明細行（商品名は左寄せ、数量・単価・金額は右寄せ）\n",
        "items = [\n",
        "    (\"商品A\", 2, 10000, 20000),\n",
        "    (\"商品B\", 1, 15000, 15000),\n",
        "]\n",
        "row_start = 11\n",
        "for row, (name, qty, price, amount) in enumerate(items, start=row_start):\n",
        "    ws.cell(row=row, column=2, value=name).alignment = Alignment(horizontal=\"left\")\n",
        "    ws.cell(row=row, column=3, value=qty).alignment = Alignment(horizontal=\"right\")\n",
        "    ws.cell(row=row, column=4, value=price).alignment = Alignment(horizontal=\"right\")\n",
        "    ws.cell(row=row, column=5, value=amount).alignment = Alignment(horizontal=\"right\")\n",
        "\n",
        "# 13行目E列（左寄せ）\n",
        "ws[\"E13\"] = 35000\n",
        "ws[\"E13\"].alignment = Alignment(horizontal=\"right\")\n",
        "\n",
        "# 小計・消費税・合計（数値は左寄せ）\n",
        "ws[\"B15\"] = \"小計\"\n",
        "ws[\"E15\"] = 35000\n",
        "ws[\"E15\"].alignment = Alignment(horizontal=\"right\")\n",
        "\n",
        "ws[\"B16\"] = \"消費税\"\n",
        "ws[\"E16\"] = 3500\n",
        "ws[\"E16\"].alignment = Alignment(horizontal=\"right\")\n",
        "\n",
        "ws[\"B17\"] = \"合計\"\n",
        "ws[\"E17\"] = 38500\n",
        "ws[\"E17\"].alignment = Alignment(horizontal=\"right\")\n",
        "\n",
        "# 列幅を統一\n",
        "for col in [\"B\", \"C\", \"D\", \"E\", \"F\", \"G\"]:\n",
        "    ws.column_dimensions[col].width = 12\n",
        "\n",
        "# 保存\n",
        "today_str = datetime.today().strftime(\"%Y%m%d\")\n",
        "filename = f\"請求書_{today_str}.xlsx\"\n",
        "\n",
        "wb.save(filename)"
      ],
      "metadata": {
        "id": "mISTB6IaAsSU"
      },
      "execution_count": null,
      "outputs": []
    }
  ]
}